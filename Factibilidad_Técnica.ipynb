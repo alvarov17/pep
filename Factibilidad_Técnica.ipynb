{
 "cells": [
  {
   "cell_type": "markdown",
   "metadata": {},
   "source": [
    "## Factibilidad Técnica\n",
    "___\n",
    "\n",
    "**MPD** (Materia Prima Directa) **MOD** (Mano de Obra Directa) y **GIF** (Gastos Indirectos de Fabricación). <br>\n",
    "Todos ellos componen elementos de un costo variable total.\n",
    "\n",
    "La factibilidad tecnica también determina gran parte de la inversion inicial que se denominan activos fijos. Por ejemplo la planta o el galpon, las maquinas, los vehiculos, los muebles, los computadores etc.\n",
    "Desprendido de lo anterior pero de una perspectiva tributaria se afecta los flujos de caja de la siguiente manera\n",
    "\n",
    "1. Gasto por depreciación anual (**GxDa**): corresponde a un descuento que se realiza año a año para los flujos del proyecto antes de impuesto. Luego el GxDa se suma, lo anterior se debe a que el GxDa no es un flujo efectivo de dinero.\n",
    "\n",
    "2. Valor libro (**VL**): Es el valor que toman los activos fijos del proyecto una vez que se ha descontado todo el GxDa año a año.\n",
    "\n",
    "3. Valor de salvamento (**VS**): Corresponde al valor de mercado que toman los activos fijos al final del horizonte de evaluacion del proyecto.\n",
    "\n",
    "4. Valor de deshecho (**VS**): Corresponde a aquel ingreso producto de la venta de los activos fijos del proyecto, el ultimo año.\n",
    "\n",
    "\n",
    "El GxDa se anota en los flujos de caja, año a año. Se restan antes de impuesto y se suman despues de impuesto.<br>\n",
    "El valor libro se resta en el ultimo año del flujo de caja antes de impuesto.<br>\n",
    "El Valor de salvamento se suma debajo del valor libro en el flujo de caja.<br>\n",
    "Finalmente el valor de deshecho se suma en el ultimo año del flujo de caja despues del impuesto a la renta.<br>\n",
    "\n",
    "### Ejemplo\n",
    "__________________\n",
    "\n",
    "Para evaluar un proyecto de inversion el proyecto contempla la compra de tres activos fijos.\n",
    "\n",
    "| Act |  V.Adq |  VR  | VU |  VS  |\n",
    "| --- | ------ |  --  | -- |  --  |\n",
    "|  A  |  1000  |  10% |  5 |  500 |\n",
    "|  B  |  2000  |  15% |  6 | 1500 |\n",
    "|  C  |  3000  |  20% |  7 | 2000 |\n",
    "\n",
    "Las ventas del proyecto cada año son las sgtes:\n",
    "\n",
    "\n",
    "| Año | Ventas |\n",
    "| --- | ------ |\n",
    "|  1  |  4000  |\n",
    "|  2  |  5000  |\n",
    "|  3  |  3000  |\n",
    "\n",
    "\n",
    "Los costos totales variables anuales ascienden a un 30% de las ventas cada año. <br> En tanto que los costos fijos (GAV) son de 500 UM cada año. <br> Los inversionistas pagan un impuesto a la renta de un 20% y esperan un retorno anual de un 25% sobre la inversion\n",
    "\n",
    "Se pide:\n",
    "\n",
    "1. Flujos de caja.\n",
    "2. VAN, TIR Y PRI.\n",
    "\n",
    "<br>\n",
    "<br>\n",
    "\n",
    "*23/10/2018*"
   ]
  }
 ],
 "metadata": {
  "kernelspec": {
   "display_name": "Python 3",
   "language": "python",
   "name": "python3"
  },
  "language_info": {
   "codemirror_mode": {
    "name": "ipython",
    "version": 3
   },
   "file_extension": ".py",
   "mimetype": "text/x-python",
   "name": "python",
   "nbconvert_exporter": "python",
   "pygments_lexer": "ipython3",
   "version": "3.7.0"
  }
 },
 "nbformat": 4,
 "nbformat_minor": 2
}
